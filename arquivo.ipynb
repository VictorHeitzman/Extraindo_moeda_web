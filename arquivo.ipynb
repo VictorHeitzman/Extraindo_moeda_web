{
 "cells": [
  {
   "cell_type": "code",
   "execution_count": 22,
   "metadata": {},
   "outputs": [],
   "source": [
    "from selenium import webdriver\n",
    "from selenium.webdriver.common.keys import Keys\n",
    "from selenium.webdriver.common.by import By\n",
    "from selenium.webdriver.chrome.options import Options\n",
    "import os\n",
    "import pandas as pd"
   ]
  },
  {
   "cell_type": "code",
   "execution_count": 39,
   "metadata": {},
   "outputs": [],
   "source": [
    "# Opção de esconder o google ao busca na web\n",
    "chrome_options = webdriver.ChromeOptions()\n",
    "chrome_options.add_argument('--headless')\n",
    "\n",
    "# Escondendo janela google\n",
    "driver = webdriver.Chrome(options=chrome_options)\n",
    "\n",
    "# Listas com as moedas a buscar na web\n",
    "coins = ['dolar', 'euro', 'Ariary malgaxe', 'Yuan chinês']\n",
    "\n",
    "#lista que recebe o valor da moeda\n",
    "values = []\n",
    "\n",
    "# Abrindo o google e realizando busca na internet \n",
    "for i in coins:\n",
    "    driver.get(f'https://www.google.com.br/search?q={i}&source=hp&ei=e3BuZO6SMIfR1sQPjJiByAM&iflsig=AOEireoAAAAAZG5-i-SZohTupI3o7_RxV_nvPLZKp-RK&ved=0ahUKEwiuvPPe4o7_AhWHqJUCHQxMADkQ4dUDCAk&uact=5&oq=Dolar+Hoje&gs_lcp=Cgdnd3Mtd2l6EANQAFglYERoAHAAeACAAQCIAQCSAQCYAQCgAQE&sclient=gws-wiz')\n",
    "    values.append(driver.find_element(By.XPATH,'//*[@id=\"knowledge-currency__updatable-data-column\"]/div[1]/div[2]/span[1]').text)\n",
    "\n",
    "mescla = list(zip(coins, values))\n",
    "\n",
    "# Criando dataFrame\n",
    "df = pd.DataFrame(mescla,columns=['coins','values'])\n",
    "\n",
    "# Gerando Excel\n",
    "df.to_excel('valores_moedas.xlsx', index=False)"
   ]
  }
 ],
 "metadata": {
  "kernelspec": {
   "display_name": "Python 3",
   "language": "python",
   "name": "python3"
  },
  "language_info": {
   "codemirror_mode": {
    "name": "ipython",
    "version": 3
   },
   "file_extension": ".py",
   "mimetype": "text/x-python",
   "name": "python",
   "nbconvert_exporter": "python",
   "pygments_lexer": "ipython3",
   "version": "3.11.3"
  },
  "orig_nbformat": 4
 },
 "nbformat": 4,
 "nbformat_minor": 2
}
